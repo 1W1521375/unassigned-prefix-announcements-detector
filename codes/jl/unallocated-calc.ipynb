{
 "cells": [
  {
   "cell_type": "code",
   "execution_count": 19,
   "metadata": {},
   "outputs": [],
   "source": [
    "import pandas as pd\n",
    "from netaddr import *\n",
    "import ipaddress\n",
    "import codecs\n",
    "import re"
   ]
  },
  {
   "cell_type": "code",
   "execution_count": 20,
   "metadata": {},
   "outputs": [],
   "source": [
    "ip_regex = \"\\d+\\.\\d+\\.\\d+\\.\\d\""
   ]
  },
  {
   "cell_type": "markdown",
   "metadata": {},
   "source": [
    "### fixed allocables"
   ]
  },
  {
   "cell_type": "code",
   "execution_count": 21,
   "metadata": {},
   "outputs": [],
   "source": [
    "fixed_allocable = \"/var/jpnic/data/allocable-jpnic/jprs-address.txt\"\n",
    "fixed_alloc_df = pd.read_csv(fixed_allocable, delimiter = \"\\n\", names = (\"IPrange\",))\n",
    "\n",
    "for i, entry in enumerate(fixed_alloc_df[\"IPrange\"]):\n",
    "    start_end = re.findall(ip_regex, entry)\n",
    "    n = IPSet()\n",
    "    n.add(IPRange(start_end[0], start_end[1]))\n",
    "    fixed_alloc_df[\"IPrange\"][i] = n"
   ]
  },
  {
   "cell_type": "code",
   "execution_count": 22,
   "metadata": {},
   "outputs": [
    {
     "data": {
      "text/plain": [
       "IPSet(['133.0.0.0/9', '133.128.0.0/10', '133.192.0.0/11', '133.224.0.0/12', '133.240.0.0/13', '133.248.0.0/14', '133.252.0.0/15', '133.254.0.0/16', '133.255.0.0/17', '133.255.128.0/18', '133.255.192.0/19', '133.255.224.0/20', '133.255.240.0/21', '133.255.248.0/22', '133.255.252.0/23', '133.255.254.0/24', '133.255.255.0/31', '133.255.255.2/32'])"
      ]
     },
     "execution_count": 22,
     "metadata": {},
     "output_type": "execute_result"
    }
   ],
   "source": [
    "fixed_alloc_df[\"IPrange\"][0]"
   ]
  },
  {
   "cell_type": "markdown",
   "metadata": {},
   "source": [
    "### dynamic allocables"
   ]
  },
  {
   "cell_type": "code",
   "execution_count": 23,
   "metadata": {},
   "outputs": [],
   "source": [
    "dyn_allocable = \"/var/jpnic/data/allocable-jpnic/apnic-address.csv\"\n",
    "dyn_alloc_df = pd.read_csv(dyn_allocable, delimiter = \"\\n\", names = (\"IPrange(dec)\",))\n",
    "\n",
    "for j, entry in enumerate(dyn_alloc_df[\"IPrange(dec)\"]):\n",
    "    start_end = re.findall(\"\\d+\", entry)\n",
    "    start = ipaddress.IPv4Address(int(start_end[0]))\n",
    "    end = ipaddress.IPv4Address(int(start_end[1]))\n",
    "    n = IPSet()\n",
    "    n.add(IPRange(str(start), str(end)))\n",
    "    dyn_alloc_df[\"IPrange(dec)\"][j] = n\n",
    "    \n",
    "clmn_name = {\"IPrange(dec)\": \"IPrange\"}\n",
    "dyn_alloc_df = dyn_alloc_df.rename(columns = clmn_name)"
   ]
  },
  {
   "cell_type": "code",
   "execution_count": 24,
   "metadata": {},
   "outputs": [
    {
     "data": {
      "text/plain": [
       "IPSet(['1.0.16.0/20'])"
      ]
     },
     "execution_count": 24,
     "metadata": {},
     "output_type": "execute_result"
    }
   ],
   "source": [
    "dyn_alloc_df[\"IPrange\"][0]"
   ]
  },
  {
   "cell_type": "code",
   "execution_count": 25,
   "metadata": {},
   "outputs": [
    {
     "data": {
      "text/html": [
       "<div>\n",
       "<style scoped>\n",
       "    .dataframe tbody tr th:only-of-type {\n",
       "        vertical-align: middle;\n",
       "    }\n",
       "\n",
       "    .dataframe tbody tr th {\n",
       "        vertical-align: top;\n",
       "    }\n",
       "\n",
       "    .dataframe thead th {\n",
       "        text-align: right;\n",
       "    }\n",
       "</style>\n",
       "<table border=\"1\" class=\"dataframe\">\n",
       "  <thead>\n",
       "    <tr style=\"text-align: right;\">\n",
       "      <th></th>\n",
       "      <th>IPrange</th>\n",
       "    </tr>\n",
       "  </thead>\n",
       "  <tbody>\n",
       "    <tr>\n",
       "      <th>0</th>\n",
       "      <td>(133.0.0.0, 133.0.0.1, 133.0.0.2, 133.0.0.3, 1...</td>\n",
       "    </tr>\n",
       "    <tr>\n",
       "      <th>1</th>\n",
       "      <td>(192.50.0.0, 192.50.0.1, 192.50.0.2, 192.50.0....</td>\n",
       "    </tr>\n",
       "    <tr>\n",
       "      <th>2</th>\n",
       "      <td>(192.218.0.0, 192.218.0.1, 192.218.0.2, 192.21...</td>\n",
       "    </tr>\n",
       "    <tr>\n",
       "      <th>3</th>\n",
       "      <td>(192.244.0.0, 192.244.0.1, 192.244.0.2, 192.24...</td>\n",
       "    </tr>\n",
       "    <tr>\n",
       "      <th>4</th>\n",
       "      <td>(202.11.0.0, 202.11.0.1, 202.11.0.2, 202.11.0....</td>\n",
       "    </tr>\n",
       "    <tr>\n",
       "      <th>...</th>\n",
       "      <td>...</td>\n",
       "    </tr>\n",
       "    <tr>\n",
       "      <th>2198</th>\n",
       "      <td>(223.223.208.0, 223.223.208.1, 223.223.208.2, ...</td>\n",
       "    </tr>\n",
       "    <tr>\n",
       "      <th>2199</th>\n",
       "      <td>(223.223.224.0, 223.223.224.1, 223.223.224.2, ...</td>\n",
       "    </tr>\n",
       "    <tr>\n",
       "      <th>2200</th>\n",
       "      <td>(223.223.240.0, 223.223.240.1, 223.223.240.2, ...</td>\n",
       "    </tr>\n",
       "    <tr>\n",
       "      <th>2201</th>\n",
       "      <td>(223.252.64.0, 223.252.64.1, 223.252.64.2, 223...</td>\n",
       "    </tr>\n",
       "    <tr>\n",
       "      <th>2202</th>\n",
       "      <td>(223.252.80.0, 223.252.80.1, 223.252.80.2, 223...</td>\n",
       "    </tr>\n",
       "  </tbody>\n",
       "</table>\n",
       "<p>2203 rows × 1 columns</p>\n",
       "</div>"
      ],
      "text/plain": [
       "                                                IPrange\n",
       "0     (133.0.0.0, 133.0.0.1, 133.0.0.2, 133.0.0.3, 1...\n",
       "1     (192.50.0.0, 192.50.0.1, 192.50.0.2, 192.50.0....\n",
       "2     (192.218.0.0, 192.218.0.1, 192.218.0.2, 192.21...\n",
       "3     (192.244.0.0, 192.244.0.1, 192.244.0.2, 192.24...\n",
       "4     (202.11.0.0, 202.11.0.1, 202.11.0.2, 202.11.0....\n",
       "...                                                 ...\n",
       "2198  (223.223.208.0, 223.223.208.1, 223.223.208.2, ...\n",
       "2199  (223.223.224.0, 223.223.224.1, 223.223.224.2, ...\n",
       "2200  (223.223.240.0, 223.223.240.1, 223.223.240.2, ...\n",
       "2201  (223.252.64.0, 223.252.64.1, 223.252.64.2, 223...\n",
       "2202  (223.252.80.0, 223.252.80.1, 223.252.80.2, 223...\n",
       "\n",
       "[2203 rows x 1 columns]"
      ]
     },
     "execution_count": 25,
     "metadata": {},
     "output_type": "execute_result"
    }
   ],
   "source": [
    "allocable_df = pd.concat([fixed_alloc_df, dyn_alloc_df])\n",
    "allocable_df = allocable_df.reset_index(drop = True)\n",
    "allocable_df"
   ]
  },
  {
   "cell_type": "markdown",
   "metadata": {},
   "source": [
    "### allocateds"
   ]
  },
  {
   "cell_type": "code",
   "execution_count": 26,
   "metadata": {},
   "outputs": [],
   "source": [
    "allocated_file = \"/var/jpnic/data/allocated-jpnic/allocated-jpnic-address.csv\"\n",
    "allocated_df = pd.read_csv(allocated_file, delimiter = \"\\n\", names = (\"IPrange(dec)\",))\n",
    "\n",
    "for k, entry in enumerate(allocated_df[\"IPrange(dec)\"]):\n",
    "    start_end = re.findall(\"\\d+\", entry)\n",
    "    start = ipaddress.IPv4Address(int(start_end[0]))\n",
    "    end = ipaddress.IPv4Address(int(start_end[1]))\n",
    "    n = IPSet()\n",
    "    n.add(IPRange(str(start), str(end)))\n",
    "    allocated_df[\"IPrange(dec)\"][k] = n\n",
    "    \n",
    "clmn_name = {\"IPrange(dec)\": \"IPrange\"}\n",
    "allocated_df = allocated_df.rename(columns = clmn_name)"
   ]
  },
  {
   "cell_type": "code",
   "execution_count": 27,
   "metadata": {},
   "outputs": [
    {
     "data": {
      "text/html": [
       "<div>\n",
       "<style scoped>\n",
       "    .dataframe tbody tr th:only-of-type {\n",
       "        vertical-align: middle;\n",
       "    }\n",
       "\n",
       "    .dataframe tbody tr th {\n",
       "        vertical-align: top;\n",
       "    }\n",
       "\n",
       "    .dataframe thead th {\n",
       "        text-align: right;\n",
       "    }\n",
       "</style>\n",
       "<table border=\"1\" class=\"dataframe\">\n",
       "  <thead>\n",
       "    <tr style=\"text-align: right;\">\n",
       "      <th></th>\n",
       "      <th>IPrange</th>\n",
       "    </tr>\n",
       "  </thead>\n",
       "  <tbody>\n",
       "    <tr>\n",
       "      <th>0</th>\n",
       "      <td>(133.0.0.0, 133.0.0.1, 133.0.0.2, 133.0.0.3, 1...</td>\n",
       "    </tr>\n",
       "    <tr>\n",
       "      <th>1</th>\n",
       "      <td>(192.50.0.0, 192.50.0.1, 192.50.0.2, 192.50.0....</td>\n",
       "    </tr>\n",
       "    <tr>\n",
       "      <th>2</th>\n",
       "      <td>(192.218.0.0, 192.218.0.1, 192.218.0.2, 192.21...</td>\n",
       "    </tr>\n",
       "    <tr>\n",
       "      <th>3</th>\n",
       "      <td>(192.244.0.0, 192.244.0.1, 192.244.0.2, 192.24...</td>\n",
       "    </tr>\n",
       "    <tr>\n",
       "      <th>4</th>\n",
       "      <td>(202.11.0.0, 202.11.0.1, 202.11.0.2, 202.11.0....</td>\n",
       "    </tr>\n",
       "    <tr>\n",
       "      <th>...</th>\n",
       "      <td>...</td>\n",
       "    </tr>\n",
       "    <tr>\n",
       "      <th>2198</th>\n",
       "      <td>(223.223.208.0, 223.223.208.1, 223.223.208.2, ...</td>\n",
       "    </tr>\n",
       "    <tr>\n",
       "      <th>2199</th>\n",
       "      <td>(223.223.224.0, 223.223.224.1, 223.223.224.2, ...</td>\n",
       "    </tr>\n",
       "    <tr>\n",
       "      <th>2200</th>\n",
       "      <td>(223.223.240.0, 223.223.240.1, 223.223.240.2, ...</td>\n",
       "    </tr>\n",
       "    <tr>\n",
       "      <th>2201</th>\n",
       "      <td>(223.252.64.0, 223.252.64.1, 223.252.64.2, 223...</td>\n",
       "    </tr>\n",
       "    <tr>\n",
       "      <th>2202</th>\n",
       "      <td>(223.252.80.0, 223.252.80.1, 223.252.80.2, 223...</td>\n",
       "    </tr>\n",
       "  </tbody>\n",
       "</table>\n",
       "<p>2203 rows × 1 columns</p>\n",
       "</div>"
      ],
      "text/plain": [
       "                                                IPrange\n",
       "0     (133.0.0.0, 133.0.0.1, 133.0.0.2, 133.0.0.3, 1...\n",
       "1     (192.50.0.0, 192.50.0.1, 192.50.0.2, 192.50.0....\n",
       "2     (192.218.0.0, 192.218.0.1, 192.218.0.2, 192.21...\n",
       "3     (192.244.0.0, 192.244.0.1, 192.244.0.2, 192.24...\n",
       "4     (202.11.0.0, 202.11.0.1, 202.11.0.2, 202.11.0....\n",
       "...                                                 ...\n",
       "2198  (223.223.208.0, 223.223.208.1, 223.223.208.2, ...\n",
       "2199  (223.223.224.0, 223.223.224.1, 223.223.224.2, ...\n",
       "2200  (223.223.240.0, 223.223.240.1, 223.223.240.2, ...\n",
       "2201  (223.252.64.0, 223.252.64.1, 223.252.64.2, 223...\n",
       "2202  (223.252.80.0, 223.252.80.1, 223.252.80.2, 223...\n",
       "\n",
       "[2203 rows x 1 columns]"
      ]
     },
     "execution_count": 27,
     "metadata": {},
     "output_type": "execute_result"
    }
   ],
   "source": [
    "allocable_df"
   ]
  },
  {
   "cell_type": "code",
   "execution_count": 28,
   "metadata": {},
   "outputs": [
    {
     "data": {
      "text/html": [
       "<div>\n",
       "<style scoped>\n",
       "    .dataframe tbody tr th:only-of-type {\n",
       "        vertical-align: middle;\n",
       "    }\n",
       "\n",
       "    .dataframe tbody tr th {\n",
       "        vertical-align: top;\n",
       "    }\n",
       "\n",
       "    .dataframe thead th {\n",
       "        text-align: right;\n",
       "    }\n",
       "</style>\n",
       "<table border=\"1\" class=\"dataframe\">\n",
       "  <thead>\n",
       "    <tr style=\"text-align: right;\">\n",
       "      <th></th>\n",
       "      <th>IPrange</th>\n",
       "    </tr>\n",
       "  </thead>\n",
       "  <tbody>\n",
       "    <tr>\n",
       "      <th>0</th>\n",
       "      <td>(1.0.16.0, 1.0.16.1, 1.0.16.2, 1.0.16.3, 1.0.1...</td>\n",
       "    </tr>\n",
       "    <tr>\n",
       "      <th>1</th>\n",
       "      <td>(1.0.64.0, 1.0.64.1, 1.0.64.2, 1.0.64.3, 1.0.6...</td>\n",
       "    </tr>\n",
       "    <tr>\n",
       "      <th>2</th>\n",
       "      <td>(1.1.64.0, 1.1.64.1, 1.1.64.2, 1.1.64.3, 1.1.6...</td>\n",
       "    </tr>\n",
       "    <tr>\n",
       "      <th>3</th>\n",
       "      <td>(1.5.0.0, 1.5.0.1, 1.5.0.2, 1.5.0.3, 1.5.0.4, ...</td>\n",
       "    </tr>\n",
       "    <tr>\n",
       "      <th>4</th>\n",
       "      <td>(1.21.0.0, 1.21.0.1, 1.21.0.2, 1.21.0.3, 1.21....</td>\n",
       "    </tr>\n",
       "    <tr>\n",
       "      <th>...</th>\n",
       "      <td>...</td>\n",
       "    </tr>\n",
       "    <tr>\n",
       "      <th>5900</th>\n",
       "      <td>(223.223.208.0, 223.223.208.1, 223.223.208.2, ...</td>\n",
       "    </tr>\n",
       "    <tr>\n",
       "      <th>5901</th>\n",
       "      <td>(223.223.224.0, 223.223.224.1, 223.223.224.2, ...</td>\n",
       "    </tr>\n",
       "    <tr>\n",
       "      <th>5902</th>\n",
       "      <td>(223.223.240.0, 223.223.240.1, 223.223.240.2, ...</td>\n",
       "    </tr>\n",
       "    <tr>\n",
       "      <th>5903</th>\n",
       "      <td>(223.252.64.0, 223.252.64.1, 223.252.64.2, 223...</td>\n",
       "    </tr>\n",
       "    <tr>\n",
       "      <th>5904</th>\n",
       "      <td>(223.252.80.0, 223.252.80.1, 223.252.80.2, 223...</td>\n",
       "    </tr>\n",
       "  </tbody>\n",
       "</table>\n",
       "<p>5905 rows × 1 columns</p>\n",
       "</div>"
      ],
      "text/plain": [
       "                                                IPrange\n",
       "0     (1.0.16.0, 1.0.16.1, 1.0.16.2, 1.0.16.3, 1.0.1...\n",
       "1     (1.0.64.0, 1.0.64.1, 1.0.64.2, 1.0.64.3, 1.0.6...\n",
       "2     (1.1.64.0, 1.1.64.1, 1.1.64.2, 1.1.64.3, 1.1.6...\n",
       "3     (1.5.0.0, 1.5.0.1, 1.5.0.2, 1.5.0.3, 1.5.0.4, ...\n",
       "4     (1.21.0.0, 1.21.0.1, 1.21.0.2, 1.21.0.3, 1.21....\n",
       "...                                                 ...\n",
       "5900  (223.223.208.0, 223.223.208.1, 223.223.208.2, ...\n",
       "5901  (223.223.224.0, 223.223.224.1, 223.223.224.2, ...\n",
       "5902  (223.223.240.0, 223.223.240.1, 223.223.240.2, ...\n",
       "5903  (223.252.64.0, 223.252.64.1, 223.252.64.2, 223...\n",
       "5904  (223.252.80.0, 223.252.80.1, 223.252.80.2, 223...\n",
       "\n",
       "[5905 rows x 1 columns]"
      ]
     },
     "execution_count": 28,
     "metadata": {},
     "output_type": "execute_result"
    }
   ],
   "source": [
    "allocated_df"
   ]
  },
  {
   "cell_type": "markdown",
   "metadata": {},
   "source": [
    "### allocable_dfからallocated_dfの差集合をとる\n",
    "allocable_dfの各行からallocated_dfの全行に渡って差分をとることを繰り返す&rarr;最後には全体同士の差集合が残る"
   ]
  },
  {
   "cell_type": "code",
   "execution_count": 30,
   "metadata": {},
   "outputs": [],
   "source": [
    "for available in allocable_df[\"IPrange\"]:\n",
    "    n1 = available\n",
    "    for allocated in allocated_df[\"IPrange\"]:\n",
    "        n2 = allocated\n",
    "        n1.remove(n2.iprange())\n",
    "    print(f\"{n1}\\n\", file = codecs.open(\"/var/jpnic/data/unallocated_new.txt\", 'a', 'utf-8'))"
   ]
  },
  {
   "cell_type": "code",
   "execution_count": 15,
   "metadata": {},
   "outputs": [
    {
     "data": {
      "text/plain": [
       "IPSet(['133.0.0.0/9', '133.128.0.0/10', '133.192.0.0/11', '133.224.0.0/12', '133.240.0.0/13', '133.248.0.0/14', '133.252.0.0/15', '133.254.0.0/16', '133.255.0.0/17', '133.255.128.0/18', '133.255.192.0/19', '133.255.224.0/20', '133.255.240.0/21', '133.255.248.0/22', '133.255.252.0/23', '133.255.254.0/24', '133.255.255.0/31', '133.255.255.2/32'])"
      ]
     },
     "execution_count": 15,
     "metadata": {},
     "output_type": "execute_result"
    }
   ],
   "source": [
    "allocable_df[\"IPrange\"][0]"
   ]
  },
  {
   "cell_type": "code",
   "execution_count": 16,
   "metadata": {},
   "outputs": [
    {
     "data": {
      "text/plain": [
       "IPSet(['1.0.16.0/20'])"
      ]
     },
     "execution_count": 16,
     "metadata": {},
     "output_type": "execute_result"
    }
   ],
   "source": [
    "allocated_df[\"IPrange\"][0]"
   ]
  },
  {
   "cell_type": "code",
   "execution_count": null,
   "metadata": {},
   "outputs": [],
   "source": []
  }
 ],
 "metadata": {
  "kernelspec": {
   "display_name": "Python 3",
   "language": "python",
   "name": "python3"
  },
  "language_info": {
   "codemirror_mode": {
    "name": "ipython",
    "version": 3
   },
   "file_extension": ".py",
   "mimetype": "text/x-python",
   "name": "python",
   "nbconvert_exporter": "python",
   "pygments_lexer": "ipython3",
   "version": "3.6.7"
  }
 },
 "nbformat": 4,
 "nbformat_minor": 4
}
